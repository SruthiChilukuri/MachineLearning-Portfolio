{
  "nbformat": 4,
  "nbformat_minor": 0,
  "metadata": {
    "colab": {
      "name": "c_markups.ipynb",
      "provenance": [],
      "authorship_tag": "ABX9TyMl57tBXLwchDTWdO4cG/6Q",
      "include_colab_link": true
    },
    "kernelspec": {
      "name": "python3",
      "display_name": "Python 3"
    }
  },
  "cells": [
    {
      "cell_type": "markdown",
      "metadata": {
        "id": "view-in-github",
        "colab_type": "text"
      },
      "source": [
        "<a href=\"https://colab.research.google.com/github/sruthi1996/homework_0-/blob/master/c_markups.ipynb\" target=\"_parent\"><img src=\"https://colab.research.google.com/assets/colab-badge.svg\" alt=\"Open In Colab\"/></a>"
      ]
    },
    {
      "cell_type": "markdown",
      "metadata": {
        "id": "rnHoSS6nJMPF",
        "colab_type": "text"
      },
      "source": [
        "My first markdown cell; Markdown is a popular Markup language"
      ]
    },
    {
      "cell_type": "code",
      "metadata": {
        "id": "1YgOwwLbJOou",
        "colab_type": "code",
        "colab": {
          "base_uri": "https://localhost:8080/",
          "height": 34
        },
        "outputId": "b21d7dd8-49ca-41f2-8eb4-a35a954e9d8c"
      },
      "source": [
        "#This is a code cell; \n",
        "print(3+5)"
      ],
      "execution_count": 1,
      "outputs": [
        {
          "output_type": "stream",
          "text": [
            "8\n"
          ],
          "name": "stdout"
        }
      ]
    },
    {
      "cell_type": "markdown",
      "metadata": {
        "id": "Nwia0wOwJUuk",
        "colab_type": "text"
      },
      "source": [
        "Markdown Formatting\n",
        "\n",
        "> \n",
        "\n",
        "\n",
        "For italtics: _This is italic_ or *THis is also itlatic*\n",
        "For Bold: __This is Bold font__ or **This is also bold**"
      ]
    },
    {
      "cell_type": "markdown",
      "metadata": {
        "id": "acJjN4tQJeET",
        "colab_type": "text"
      },
      "source": [
        "Headings:\n",
        "\n",
        "# This is Heading 1 #\n",
        "## This is Heading 2 ##\n",
        "### This is Heading 3 ###\n"
      ]
    },
    {
      "cell_type": "code",
      "metadata": {
        "id": "kFS1NGIZJlow",
        "colab_type": "code",
        "colab": {
          "base_uri": "https://localhost:8080/",
          "height": 34
        },
        "outputId": "5f1f61f2-c139-445c-bae9-719136174fd8"
      },
      "source": [
        "import matplotlib.pyplot as plt\n",
        "from PIL import Image\n",
        "a = 1\n",
        "b = a + 1\n",
        "c = b + a + 2\n",
        "d = c + b + a\n",
        "a, b, c ,d\n"
      ],
      "execution_count": 3,
      "outputs": [
        {
          "output_type": "execute_result",
          "data": {
            "text/plain": [
              "(1, 2, 5, 8)"
            ]
          },
          "metadata": {
            "tags": []
          },
          "execution_count": 3
        }
      ]
    },
    {
      "cell_type": "code",
      "metadata": {
        "id": "gq7uhNXrJs_L",
        "colab_type": "code",
        "colab": {
          "base_uri": "https://localhost:8080/",
          "height": 265
        },
        "outputId": "a8915519-9e50-4283-a0b6-d0b27c6621c5"
      },
      "source": [
        "plt.plot([a,b,c,d])\n",
        "plt.show()"
      ],
      "execution_count": 4,
      "outputs": [
        {
          "output_type": "display_data",
          "data": {
            "image/png": "[encoded data removed]",
            "text/plain": [
              "<Figure size 432x288 with 1 Axes>"
            ]
          },
          "metadata": {
            "tags": []
          }
        }
      ]
    },
    {
      "cell_type": "code",
      "metadata": {
        "id": "kOC8DQaUJv1U",
        "colab_type": "code",
        "colab": {}
      },
      "source": [
        ""
      ],
      "execution_count": 0,
      "outputs": []
    }
  ]
}