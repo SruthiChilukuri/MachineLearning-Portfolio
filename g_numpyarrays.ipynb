{
  "nbformat": 4,
  "nbformat_minor": 0,
  "metadata": {
    "colab": {
      "name": "numpyarrays.ipynb",
      "provenance": [],
      "authorship_tag": "ABX9TyOIb+4gT1ESSK7fy6STTEnv",
      "include_colab_link": true
    },
    "kernelspec": {
      "name": "python3",
      "display_name": "Python 3"
    }
  },
  "cells": [
    {
      "cell_type": "markdown",
      "metadata": {
        "id": "view-in-github",
        "colab_type": "text"
      },
      "source": [
        "<a href=\"https://colab.research.google.com/github/sruthi1996/homework_0-/blob/master/numpyarrays.ipynb\" target=\"_parent\"><img src=\"https://colab.research.google.com/assets/colab-badge.svg\" alt=\"Open In Colab\"/></a>"
      ]
    },
    {
      "cell_type": "markdown",
      "metadata": {
        "id": "DlzOvkChD0WV",
        "colab_type": "text"
      },
      "source": [
        ""
      ]
    },
    {
      "cell_type": "markdown",
      "metadata": {
        "id": "MmNYsjdyDgGH",
        "colab_type": "text"
      },
      "source": [
        "Understanding Numpy package:\n",
        "To work with matrices, we have a matrix matlib library that returns matrices instead of a n-dimensional array "
      ]
    },
    {
      "cell_type": "code",
      "metadata": {
        "id": "fe9Cc6N6ENyy",
        "colab_type": "code",
        "colab": {}
      },
      "source": [
        "import numpy as np\n",
        "import numpy.matlib\n"
      ],
      "execution_count": 0,
      "outputs": []
    },
    {
      "cell_type": "code",
      "metadata": {
        "id": "Nc46jMAEGtK0",
        "colab_type": "code",
        "outputId": "2c7edab5-56ba-4e43-a6b3-87b53f6cdc9d",
        "colab": {
          "base_uri": "https://localhost:8080/",
          "height": 34
        }
      },
      "source": [
        "a = np.array([1,2,3])\n",
        "b = np.array([4,5,6])\n",
        "a+b"
      ],
      "execution_count": 0,
      "outputs": [
        {
          "output_type": "execute_result",
          "data": {
            "text/plain": [
              "array([5, 7, 9])"
            ]
          },
          "metadata": {
            "tags": []
          },
          "execution_count": 7
        }
      ]
    },
    {
      "cell_type": "code",
      "metadata": {
        "id": "XBbViDyjE2QU",
        "colab_type": "code",
        "outputId": "61862e57-327b-4770-fb9a-9b39e94928b3",
        "colab": {
          "base_uri": "https://localhost:8080/",
          "height": 34
        }
      },
      "source": [
        "b%1\n",
        "#returns the reaminder\n"
      ],
      "execution_count": 0,
      "outputs": [
        {
          "output_type": "execute_result",
          "data": {
            "text/plain": [
              "array([0, 0, 0])"
            ]
          },
          "metadata": {
            "tags": []
          },
          "execution_count": 8
        }
      ]
    },
    {
      "cell_type": "code",
      "metadata": {
        "id": "qqXkyXDxHKcl",
        "colab_type": "code",
        "outputId": "7181d7a8-4d71-4d72-da0b-413d806c55d3",
        "colab": {
          "base_uri": "https://localhost:8080/",
          "height": 34
        }
      },
      "source": [
        "ar =np.array([[2,3,4],[5,6,7]])\n",
        "print(\"shape and size of the array:\", ar.shape,\",\", ar.size)"
      ],
      "execution_count": 0,
      "outputs": [
        {
          "output_type": "stream",
          "text": [
            "shape and size of the array: (2, 3) , 6\n"
          ],
          "name": "stdout"
        }
      ]
    },
    {
      "cell_type": "code",
      "metadata": {
        "id": "eKNfMOKIHvCs",
        "colab_type": "code",
        "outputId": "c274784d-d441-454b-c3f9-3301dcded990",
        "colab": {
          "base_uri": "https://localhost:8080/",
          "height": 34
        }
      },
      "source": [
        "print(\"The elements in the array are of type:\", ar.dtype)"
      ],
      "execution_count": 0,
      "outputs": [
        {
          "output_type": "stream",
          "text": [
            "The elements in the array are of type: int64\n"
          ],
          "name": "stdout"
        }
      ]
    },
    {
      "cell_type": "markdown",
      "metadata": {
        "id": "mwqevSxwIvAW",
        "colab_type": "text"
      },
      "source": [
        "Array Broadcasting"
      ]
    },
    {
      "cell_type": "markdown",
      "metadata": {
        "id": "wQX7vt-VO20S",
        "colab_type": "text"
      },
      "source": [
        "Array broadcasting is done when we need to carry out binary operations on multi-sized arrays."
      ]
    },
    {
      "cell_type": "code",
      "metadata": {
        "id": "k0YV7rpmPDBc",
        "colab_type": "code",
        "colab": {}
      },
      "source": [
        "Ab = np.ones((3, 3))\n",
        "print(Ab)"
      ],
      "execution_count": 0,
      "outputs": []
    },
    {
      "cell_type": "code",
      "metadata": {
        "id": "2tTIgw-gX_1q",
        "colab_type": "code",
        "outputId": "4ca1fdf0-45eb-4ab8-f4db-283caf7aabd6",
        "colab": {
          "base_uri": "https://localhost:8080/",
          "height": 70
        }
      },
      "source": [
        "a=np.array([1,2,3])\n",
        "print(Ab + a)"
      ],
      "execution_count": 0,
      "outputs": [
        {
          "output_type": "stream",
          "text": [
            "[[2. 3. 4.]\n",
            " [2. 3. 4.]\n",
            " [2. 3. 4.]]\n"
          ],
          "name": "stdout"
        }
      ]
    },
    {
      "cell_type": "code",
      "metadata": {
        "id": "XUmRZWIfYZH-",
        "colab_type": "code",
        "outputId": "6a1b3819-46d7-42e2-d122-e1106ab489f2",
        "colab": {
          "base_uri": "https://localhost:8080/",
          "height": 52
        }
      },
      "source": [
        "M = np.ones((2, 3))\n",
        "a = np.arange(3)\n",
        "print(M,a)\n"
      ],
      "execution_count": 0,
      "outputs": [
        {
          "output_type": "stream",
          "text": [
            "[[1. 1. 1.]\n",
            " [1. 1. 1.]] [0 1 2]\n"
          ],
          "name": "stdout"
        }
      ]
    },
    {
      "cell_type": "code",
      "metadata": {
        "id": "6zB9pDItZIjf",
        "colab_type": "code",
        "outputId": "ca6e4bf5-45a0-4d19-baec-1f6b53d4451c",
        "colab": {
          "base_uri": "https://localhost:8080/",
          "height": 70
        }
      },
      "source": [
        "a1 = np.arange(3).reshape((3, 1))\n",
        "b1 = np.arange(3)\n",
        "print(a1,b1)"
      ],
      "execution_count": 0,
      "outputs": [
        {
          "output_type": "stream",
          "text": [
            "[[0]\n",
            " [1]\n",
            " [2]] [0 1 2]\n"
          ],
          "name": "stdout"
        }
      ]
    },
    {
      "cell_type": "code",
      "metadata": {
        "id": "zB9xqAnqZfBx",
        "colab_type": "code",
        "outputId": "5435b43c-304c-4a49-d7e5-3a25836feb06",
        "colab": {
          "base_uri": "https://localhost:8080/",
          "height": 87
        }
      },
      "source": [
        "M = np.ones((3, 2))\n",
        "a = np.arange(3)\n",
        "print(M)\n",
        "print(a)"
      ],
      "execution_count": 0,
      "outputs": [
        {
          "output_type": "stream",
          "text": [
            "[[1. 1.]\n",
            " [1. 1.]\n",
            " [1. 1.]]\n",
            "[0 1 2]\n"
          ],
          "name": "stdout"
        }
      ]
    },
    {
      "cell_type": "code",
      "metadata": {
        "id": "lxGzdYkEZoDZ",
        "colab_type": "code",
        "outputId": "5d4aab8b-7417-490d-93fb-1507a876a6c2",
        "colab": {
          "base_uri": "https://localhost:8080/",
          "height": 193
        }
      },
      "source": [
        "X = np.random.random((10, 3))\n",
        "print(X)"
      ],
      "execution_count": 0,
      "outputs": [
        {
          "output_type": "stream",
          "text": [
            "[[0.51084199 0.97703066 0.81253808]\n",
            " [0.50487656 0.50311169 0.53203419]\n",
            " [0.02972363 0.20589586 0.28388658]\n",
            " [0.04481214 0.20252703 0.58292405]\n",
            " [0.51643769 0.73331485 0.98455219]\n",
            " [0.85863738 0.22472542 0.80596499]\n",
            " [0.81171153 0.53938393 0.81208116]\n",
            " [0.99600358 0.63580498 0.74546216]\n",
            " [0.94677257 0.27333363 0.01325911]\n",
            " [0.5064822  0.54813229 0.2989646 ]]\n"
          ],
          "name": "stdout"
        }
      ]
    },
    {
      "cell_type": "code",
      "metadata": {
        "id": "ufDKPgQKZxg7",
        "colab_type": "code",
        "colab": {}
      },
      "source": [
        "#To compute the mean of the each of the elements of the array"
      ],
      "execution_count": 0,
      "outputs": []
    },
    {
      "cell_type": "code",
      "metadata": {
        "id": "N-yEz2DmZ5yb",
        "colab_type": "code",
        "outputId": "de8cbfc8-6d26-4bc9-fae5-6fba1db5056c",
        "colab": {
          "base_uri": "https://localhost:8080/",
          "height": 34
        }
      },
      "source": [
        "X_mean = X.mean(0)\n",
        "X_mean"
      ],
      "execution_count": 0,
      "outputs": [
        {
          "output_type": "execute_result",
          "data": {
            "text/plain": [
              "array([0.57262993, 0.48432603, 0.58716671])"
            ]
          },
          "metadata": {
            "tags": []
          },
          "execution_count": 50
        }
      ]
    },
    {
      "cell_type": "code",
      "metadata": {
        "id": "B3PlyWdVaQDl",
        "colab_type": "code",
        "outputId": "633086a8-f05a-4f97-9b05-3e5fea66e349",
        "colab": {
          "base_uri": "https://localhost:8080/",
          "height": 193
        }
      },
      "source": [
        "X_centered = X - X_mean\n",
        "X_centered"
      ],
      "execution_count": 0,
      "outputs": [
        {
          "output_type": "execute_result",
          "data": {
            "text/plain": [
              "array([[-0.06178794,  0.49270462,  0.22537137],\n",
              "       [-0.06775336,  0.01878565, -0.05513252],\n",
              "       [-0.5429063 , -0.27843017, -0.30328013],\n",
              "       [-0.52781778, -0.281799  , -0.00424266],\n",
              "       [-0.05619224,  0.24898881,  0.39738547],\n",
              "       [ 0.28600745, -0.25960061,  0.21879828],\n",
              "       [ 0.2390816 ,  0.0550579 ,  0.22491445],\n",
              "       [ 0.42337365,  0.15147894,  0.15829545],\n",
              "       [ 0.37414265, -0.2109924 , -0.5739076 ],\n",
              "       [-0.06614773,  0.06380626, -0.28820211]])"
            ]
          },
          "metadata": {
            "tags": []
          },
          "execution_count": 53
        }
      ]
    },
    {
      "cell_type": "code",
      "metadata": {
        "id": "Cgz2EU9maXWj",
        "colab_type": "code",
        "outputId": "394f50c0-e684-476f-d2f1-c09ab3dc54de",
        "colab": {
          "base_uri": "https://localhost:8080/",
          "height": 87
        }
      },
      "source": [
        "#To represent an n-dimensional array as a matrix or viceversa\n",
        "import numpy.matlib \n",
        "import numpy as np  \n",
        "\n",
        "i = np.matrix('1,2;3,4;5,6;7,8') \n",
        "print(i) "
      ],
      "execution_count": 0,
      "outputs": [
        {
          "output_type": "stream",
          "text": [
            "[[1 2]\n",
            " [3 4]\n",
            " [5 6]\n",
            " [7 8]]\n"
          ],
          "name": "stdout"
        }
      ]
    },
    {
      "cell_type": "code",
      "metadata": {
        "id": "HBiOp1n1Bedk",
        "colab_type": "code",
        "outputId": "5f4f1724-99a1-4a65-a155-47794c7ee890",
        "colab": {
          "base_uri": "https://localhost:8080/",
          "height": 52
        }
      },
      "source": [
        "#To generate the maximum and minimum elements of an ndarray; a matrix\n",
        "ar1 = np.array([[1, 5, 6], \n",
        "                [4, 7, 2], \n",
        "                [3, 1, 9]]) \n",
        "print (\"Largest element in the matrix is:\", ar1.max()) \n",
        "print (\"Largest element from each of the row is:\", \n",
        "                    ar1.max(axis = 1))  "
      ],
      "execution_count": 0,
      "outputs": [
        {
          "output_type": "stream",
          "text": [
            "Largest element in the matrix is: 9\n",
            "Largest element from each of the row is: [6 7 9]\n"
          ],
          "name": "stdout"
        }
      ]
    },
    {
      "cell_type": "code",
      "metadata": {
        "id": "dvoZfBowEZz_",
        "colab_type": "code",
        "outputId": "2afd3760-eddd-4ded-e498-540fb37fa31e",
        "colab": {
          "base_uri": "https://localhost:8080/",
          "height": 34
        }
      },
      "source": [
        "#similarily printing minimum element of a matrix using numpy:\n",
        "print (\"Least element of each of the columns in the matrix:\", \n",
        "                        arr.min(axis = 0)) "
      ],
      "execution_count": 0,
      "outputs": [
        {
          "output_type": "stream",
          "text": [
            "Least element of each of the columns in the matrix: [1 1 2]\n"
          ],
          "name": "stdout"
        }
      ]
    },
    {
      "cell_type": "code",
      "metadata": {
        "id": "eZVI2qLZEx2z",
        "colab_type": "code",
        "outputId": "7080d83d-4f55-463c-e02f-1b7ca90f90c2",
        "colab": {
          "base_uri": "https://localhost:8080/",
          "height": 34
        }
      },
      "source": [
        "#To print the sum\n",
        "print (\"Sum of all elements in array :\", \n",
        "                            arr.sum()) "
      ],
      "execution_count": 0,
      "outputs": [
        {
          "output_type": "stream",
          "text": [
            "Sum of all elements in array : 38\n"
          ],
          "name": "stdout"
        }
      ]
    },
    {
      "cell_type": "code",
      "metadata": {
        "id": "8m-_m1dTE74q",
        "colab_type": "code",
        "outputId": "3dec4082-1389-4e08-b022-3c8ad89a22a7",
        "colab": {
          "base_uri": "https://localhost:8080/",
          "height": 210
        }
      },
      "source": [
        "#To perform binary operations on the nd arrays or matrices:\n",
        "a1 = np.array([[10, 20], \n",
        "            [30, 40]]) \n",
        "a2 = np.array([[40, 30], \n",
        "            [20, 10]]) \n",
        "print (\"Array sum:\\n\", a1 + a2) \n",
        "\n",
        "print (\"\\nArray multiplication:\\n\", a1*a2)\n",
        "\n",
        "print (\"\\nMatrix multiplication:\\n\", a1.dot(a2))"
      ],
      "execution_count": 0,
      "outputs": [
        {
          "output_type": "stream",
          "text": [
            "Array sum:\n",
            " [[50 50]\n",
            " [50 50]]\n",
            "\n",
            "Array multiplication:\n",
            " [[400 600]\n",
            " [600 400]]\n",
            "\n",
            "Matrix multiplication:\n",
            " [[ 800  500]\n",
            " [2000 1300]]\n"
          ],
          "name": "stdout"
        }
      ]
    },
    {
      "cell_type": "code",
      "metadata": {
        "id": "7qZ2hCt3Fekt",
        "colab_type": "code",
        "colab": {}
      },
      "source": [
        "\n"
      ],
      "execution_count": 0,
      "outputs": []
    },
    {
      "cell_type": "markdown",
      "metadata": {
        "id": "mZhgvQbxFv0u",
        "colab_type": "text"
      },
      "source": [
        ""
      ]
    }
  ]
}
